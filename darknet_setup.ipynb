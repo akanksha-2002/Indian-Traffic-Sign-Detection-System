{
  "nbformat": 4,
  "nbformat_minor": 0,
  "metadata": {
    "colab": {
      "provenance": [],
      "gpuType": "T4",
      "authorship_tag": "ABX9TyPfw//dR61jl0lsx9HuKWN9",
      "include_colab_link": true
    },
    "kernelspec": {
      "name": "python3",
      "display_name": "Python 3"
    },
    "language_info": {
      "name": "python"
    },
    "accelerator": "GPU"
  },
  "cells": [
    {
      "cell_type": "markdown",
      "metadata": {
        "id": "view-in-github",
        "colab_type": "text"
      },
      "source": [
        "<a href=\"https://colab.research.google.com/github/akanksha-2002/Indian_traffic_sign_detection_system/blob/main/darknet_setup.ipynb\" target=\"_parent\"><img src=\"https://colab.research.google.com/assets/colab-badge.svg\" alt=\"Open In Colab\"/></a>"
      ]
    },
    {
      "cell_type": "code",
      "execution_count": null,
      "metadata": {
        "colab": {
          "base_uri": "https://localhost:8080/"
        },
        "id": "kbNLxF53jI4d",
        "outputId": "714fbc54-95a7-428d-8bb6-12dff3bece60"
      },
      "outputs": [
        {
          "output_type": "stream",
          "name": "stdout",
          "text": [
            "Mounted at /content/drive\n"
          ]
        }
      ],
      "source": [
        "#Connecting to Drive\n",
        "from google.colab import drive\n",
        "drive.mount('/content/drive')"
      ]
    },
    {
      "cell_type": "code",
      "source": [
        "#Path to darknet\n",
        "%cd 'drive/My Drive/AI Based Driver Assistant'\n",
        "!ls\n",
        "\n"
      ],
      "metadata": {
        "colab": {
          "base_uri": "https://localhost:8080/"
        },
        "id": "OufYJgqSjQHW",
        "outputId": "3c10ae3b-b187-426c-82d2-5e71797f0791"
      },
      "execution_count": null,
      "outputs": [
        {
          "output_type": "stream",
          "name": "stdout",
          "text": [
            "/content/drive/My Drive/AI Based Driver Assistant\n",
            "darknet\n"
          ]
        }
      ]
    },
    {
      "cell_type": "code",
      "source": [
        "\n",
        "!git clone https://github.com/AlexeyAB/darknet/"
      ],
      "metadata": {
        "colab": {
          "base_uri": "https://localhost:8080/"
        },
        "id": "vVzo9pcIk0lI",
        "outputId": "ac171147-9a48-42a9-87ca-d3032c7e2252"
      },
      "execution_count": null,
      "outputs": [
        {
          "output_type": "stream",
          "name": "stdout",
          "text": [
            "fatal: destination path 'darknet' already exists and is not an empty directory.\n"
          ]
        }
      ]
    },
    {
      "cell_type": "code",
      "source": [
        "%cd darknet\n",
        "!ls"
      ],
      "metadata": {
        "colab": {
          "base_uri": "https://localhost:8080/"
        },
        "id": "APcUPekHmLdI",
        "outputId": "e37acf17-816d-4194-89f6-78ae42c95883"
      },
      "execution_count": null,
      "outputs": [
        {
          "output_type": "stream",
          "name": "stdout",
          "text": [
            "/content/drive/My Drive/AI Based Driver Assistant/darknet\n",
            "3rdparty\tdarknet\t\t\tDockerfile.cpu\t       Makefile       results\n",
            "backup\t\tDarknetConfig.cmake.in\tDockerfile.gpu\t       mydata\t      scripts\n",
            "build\t\tdarknet_images.py\timage_yolov3.sh        net_cam_v3.sh  src\n",
            "build.ps1\tdarknet.py\t\timage_yolov4.sh        net_cam_v4.sh  vcpkg.json\n",
            "cfg\t\tdarknet_video.py\tinclude\t\t       obj\t      vcpkg.json.opencv23\n",
            "cmake\t\tdata\t\t\tjson_mjpeg_streams.sh  package.xml    video_yolov3.sh\n",
            "CMakeLists.txt\tdocker-compose.yml\tLICENSE\t\t       README.md      video_yolov4.sh\n"
          ]
        }
      ]
    },
    {
      "cell_type": "code",
      "source": [
        "#Download the file and change GPU = 1 ( by default --> 0 ) and OPENCV = 1 ( by default --> 0 )\n",
        "!cat Makefile"
      ],
      "metadata": {
        "colab": {
          "base_uri": "https://localhost:8080/"
        },
        "id": "r_SG16c9mTza",
        "outputId": "1316bf1a-faab-4f30-98b6-f6f565414349"
      },
      "execution_count": null,
      "outputs": [
        {
          "output_type": "stream",
          "name": "stdout",
          "text": [
            "GPU=0\n",
            "CUDNN=0\n",
            "CUDNN_HALF=0\n",
            "OPENCV=0\n",
            "AVX=0\n",
            "OPENMP=0\n",
            "LIBSO=0\n",
            "ZED_CAMERA=0\n",
            "ZED_CAMERA_v2_8=0\n",
            "\n",
            "# set GPU=1 and CUDNN=1 to speedup on GPU\n",
            "# set CUDNN_HALF=1 to further speedup 3 x times (Mixed-precision on Tensor Cores) GPU: Volta, Xavier, Turing, Ampere, Ada and higher\n",
            "# set AVX=1 and OPENMP=1 to speedup on CPU (if error occurs then set AVX=0)\n",
            "# set ZED_CAMERA=1 to enable ZED SDK 3.0 and above\n",
            "# set ZED_CAMERA_v2_8=1 to enable ZED SDK 2.X\n",
            "\n",
            "USE_CPP=0\n",
            "DEBUG=0\n",
            "\n",
            "ARCH= -gencode arch=compute_50,code=[sm_50,compute_50] \\\n",
            "      -gencode arch=compute_52,code=[sm_52,compute_52] \\\n",
            "\t    -gencode arch=compute_61,code=[sm_61,compute_61]\n",
            "\n",
            "OS := $(shell uname)\n",
            "\n",
            "# Naming confusion with recent RTX cards.\n",
            "# \"NVIDIA Quadro RTX x000\" and T1000/Tx00 are Turing Architecture Family with Compute Capability of 7.5\n",
            "# \"NVIDIA RTX Ax000\" are Ampere Architecture Family with Compute Capability of 8.6\n",
            "# NVIDIA \"RTX x000 Ada\" are Ada Lovelace Architecture Family with Compute Capability of 8.9\n",
            "# Source https://developer.nvidia.com/cuda-gpus\n",
            "\n",
            "# KEPLER, GeForce GTX 770, GTX 760, GT 740\n",
            "# ARCH= -gencode arch=compute_30,code=sm_30\n",
            "\n",
            "# MAXWELL, GeForce GTX 950, 960, 970, 980, 980 Ti, \"GTX\" Titan X\n",
            "# ARCH= -gencode arch=compute_52,code=sm_52\n",
            "\n",
            "# Jetson TX1, Tegra X1, DRIVE CX, DRIVE PX, Jetson Nano (2GB, 4GB)\n",
            "# ARCH= -gencode arch=compute_53,code=[sm_53,compute_53]\n",
            "\n",
            "# GP100/Tesla P100 - DGX-1\n",
            "# ARCH= -gencode arch=compute_60,code=sm_60\n",
            "\n",
            "# PASCAL, GTX 10x0, GTX 10x0 Ti, Titan Xp, Tesla P40, Tesla P4\n",
            "# ARCH= -gencode arch=compute_61,code=[sm_61,compute_61]\n",
            "\n",
            "# For Jetson TX2, Jetson Nano TX2 or Drive-PX2 uncomment:\n",
            "# ARCH= -gencode arch=compute_62,code=[sm_62,compute_62]\n",
            "\n",
            "# Tesla V100\n",
            "# ARCH= -gencode arch=compute_70,code=[sm_70,compute_70]\n",
            "\n",
            "# Jetson XAVIER, XAVIER NX\n",
            "# ARCH= -gencode arch=compute_72,code=[sm_72,compute_72]\n",
            "\n",
            "# GeForce Titan RTX, RTX 20x0, RTX 20x0 Ti, Quadro RTX x000, Tesla T4, XNOR Tensor Cores\n",
            "# ARCH= -gencode arch=compute_75,code=[sm_75,compute_75]\n",
            "\n",
            "# Tesla A100 (GA100), DGX-A100, A30, A100, RTX 3080\n",
            "# ARCH= -gencode arch=compute_80,code=[sm_80,compute_80]\n",
            "\n",
            "# GeForce RTX 30x0, 30x0 Ti, Tesla GA10x, RTX Axxxx, A2, A10, A16, A40\n",
            "# ARCH= -gencode arch=compute_86,code=[sm_86,compute_86]\n",
            "\n",
            "# NOT TESTED, THEORETICAL\n",
            "# Jetson ORIN, ORIN NX, ORIN NANO\n",
            "# ARCH= -gencode arch=compute_87,code=[sm_87,compute_87]\n",
            "\n",
            "# NOT TESTED, THEORETICAL\n",
            "# GeForce RTX 4070 Ti, 4080, 4090, L4, L40\n",
            "# ARCH= -gencode arch=compute_89,code=[sm_89,compute_89]\n",
            "\n",
            "# NOT TESTED, THEORETICAL\n",
            "# Nvidia H100\n",
            "# ARCH= -gencode arch=compute_90,code=[sm_90,compute_90]\n",
            "\n",
            "VPATH=./src/\n",
            "EXEC=darknet\n",
            "OBJDIR=./obj/\n",
            "\n",
            "ifeq ($(LIBSO), 1)\n",
            "LIBNAMESO=libdarknet.so\n",
            "APPNAMESO=uselib\n",
            "endif\n",
            "\n",
            "ifeq ($(USE_CPP), 1)\n",
            "CC=g++\n",
            "else\n",
            "CC=gcc\n",
            "endif\n",
            "\n",
            "CPP=g++ -std=c++11\n",
            "NVCC=nvcc\n",
            "OPTS=-Ofast\n",
            "LDFLAGS= -lm -pthread\n",
            "COMMON= -Iinclude/ -I3rdparty/stb/include\n",
            "CFLAGS=-Wall -Wfatal-errors -Wno-unused-result -Wno-unknown-pragmas -fPIC -rdynamic\n",
            "\n",
            "ifeq ($(DEBUG), 1)\n",
            "#OPTS= -O0 -g\n",
            "#OPTS= -Og -g\n",
            "COMMON+= -DDEBUG\n",
            "CFLAGS+= -DDEBUG\n",
            "else\n",
            "ifeq ($(AVX), 1)\n",
            "CFLAGS+= -ffp-contract=fast -mavx -mavx2 -msse3 -msse4.1 -msse4.2 -msse4a\n",
            "endif\n",
            "endif\n",
            "\n",
            "CFLAGS+=$(OPTS)\n",
            "\n",
            "ifneq (,$(findstring MSYS_NT,$(OS)))\n",
            "LDFLAGS+=-lws2_32\n",
            "endif\n",
            "\n",
            "ifeq ($(OPENCV), 1)\n",
            "COMMON+= -DOPENCV\n",
            "CFLAGS+= -DOPENCV\n",
            "LDFLAGS+= `pkg-config --libs opencv4 2> /dev/null || pkg-config --libs opencv`\n",
            "COMMON+= `pkg-config --cflags opencv4 2> /dev/null || pkg-config --cflags opencv`\n",
            "endif\n",
            "\n",
            "ifeq ($(OPENMP), 1)\n",
            "    ifeq ($(OS),Darwin) #MAC\n",
            "\t    CFLAGS+= -Xpreprocessor -fopenmp\n",
            "\telse\n",
            "\t\tCFLAGS+= -fopenmp\n",
            "\tendif\n",
            "LDFLAGS+= -lgomp\n",
            "endif\n",
            "\n",
            "ifeq ($(GPU), 1)\n",
            "COMMON+= -DGPU -I/usr/local/cuda/include/\n",
            "CFLAGS+= -DGPU\n",
            "ifeq ($(OS),Darwin) #MAC\n",
            "LDFLAGS+= -L/usr/local/cuda/lib -lcuda -lcudart -lcublas -lcurand\n",
            "else\n",
            "LDFLAGS+= -L/usr/local/cuda/lib64 -lcuda -lcudart -lcublas -lcurand\n",
            "endif\n",
            "endif\n",
            "\n",
            "ifeq ($(CUDNN), 1)\n",
            "COMMON+= -DCUDNN\n",
            "ifeq ($(OS),Darwin) #MAC\n",
            "CFLAGS+= -DCUDNN -I/usr/local/cuda/include\n",
            "LDFLAGS+= -L/usr/local/cuda/lib -lcudnn\n",
            "else\n",
            "CFLAGS+= -DCUDNN -I/usr/local/cudnn/include\n",
            "LDFLAGS+= -L/usr/local/cudnn/lib64 -lcudnn\n",
            "endif\n",
            "endif\n",
            "\n",
            "ifeq ($(CUDNN_HALF), 1)\n",
            "COMMON+= -DCUDNN_HALF\n",
            "CFLAGS+= -DCUDNN_HALF\n",
            "ARCH+= -gencode arch=compute_70,code=[sm_70,compute_70]\n",
            "endif\n",
            "\n",
            "ifeq ($(ZED_CAMERA), 1)\n",
            "CFLAGS+= -DZED_STEREO -I/usr/local/zed/include\n",
            "ifeq ($(ZED_CAMERA_v2_8), 1)\n",
            "LDFLAGS+= -L/usr/local/zed/lib -lsl_core -lsl_input -lsl_zed\n",
            "#-lstdc++ -D_GLIBCXX_USE_CXX11_ABI=0\n",
            "else\n",
            "LDFLAGS+= -L/usr/local/zed/lib -lsl_zed\n",
            "#-lstdc++ -D_GLIBCXX_USE_CXX11_ABI=0\n",
            "endif\n",
            "endif\n",
            "\n",
            "OBJ=image_opencv.o http_stream.o gemm.o utils.o dark_cuda.o convolutional_layer.o list.o image.o activations.o im2col.o col2im.o blas.o crop_layer.o dropout_layer.o maxpool_layer.o softmax_layer.o data.o matrix.o network.o connected_layer.o cost_layer.o parser.o option_list.o darknet.o detection_layer.o captcha.o route_layer.o writing.o box.o nightmare.o normalization_layer.o avgpool_layer.o coco.o dice.o yolo.o detector.o layer.o compare.o classifier.o local_layer.o swag.o shortcut_layer.o representation_layer.o activation_layer.o rnn_layer.o gru_layer.o rnn.o rnn_vid.o crnn_layer.o demo.o tag.o cifar.o go.o batchnorm_layer.o art.o region_layer.o reorg_layer.o reorg_old_layer.o super.o voxel.o tree.o yolo_layer.o gaussian_yolo_layer.o upsample_layer.o lstm_layer.o conv_lstm_layer.o scale_channels_layer.o sam_layer.o\n",
            "ifeq ($(GPU), 1)\n",
            "LDFLAGS+= -lstdc++\n",
            "OBJ+=convolutional_kernels.o activation_kernels.o im2col_kernels.o col2im_kernels.o blas_kernels.o crop_layer_kernels.o dropout_layer_kernels.o maxpool_layer_kernels.o network_kernels.o avgpool_layer_kernels.o\n",
            "endif\n",
            "\n",
            "OBJS = $(addprefix $(OBJDIR), $(OBJ))\n",
            "DEPS = $(wildcard src/*.h) Makefile include/darknet.h\n",
            "\n",
            "all: $(OBJDIR) backup results setchmod $(EXEC) $(LIBNAMESO) $(APPNAMESO)\n",
            "\n",
            "ifeq ($(LIBSO), 1)\n",
            "CFLAGS+= -fPIC\n",
            "\n",
            "$(LIBNAMESO): $(OBJDIR) $(OBJS) include/yolo_v2_class.hpp src/yolo_v2_class.cpp\n",
            "\t$(CPP) -shared -std=c++11 -fvisibility=hidden -DLIB_EXPORTS $(COMMON) $(CFLAGS) $(OBJS) src/yolo_v2_class.cpp -o $@ $(LDFLAGS)\n",
            "\n",
            "$(APPNAMESO): $(LIBNAMESO) include/yolo_v2_class.hpp src/yolo_console_dll.cpp\n",
            "\t$(CPP) -std=c++11 $(COMMON) $(CFLAGS) -o $@ src/yolo_console_dll.cpp $(LDFLAGS) -L ./ -l:$(LIBNAMESO)\n",
            "endif\n",
            "\n",
            "$(EXEC): $(OBJS)\n",
            "\t$(CPP) -std=c++11 $(COMMON) $(CFLAGS) $^ -o $@ $(LDFLAGS)\n",
            "\n",
            "$(OBJDIR)%.o: %.c $(DEPS)\n",
            "\t$(CC) $(COMMON) $(CFLAGS) -c $< -o $@\n",
            "\n",
            "$(OBJDIR)%.o: %.cpp $(DEPS)\n",
            "\t$(CPP) -std=c++11 $(COMMON) $(CFLAGS) -c $< -o $@\n",
            "\n",
            "$(OBJDIR)%.o: %.cu $(DEPS)\n",
            "\t$(NVCC) $(ARCH) $(COMMON) --compiler-options \"$(CFLAGS)\" -c $< -o $@\n",
            "\n",
            "$(OBJDIR):\n",
            "\tmkdir -p $(OBJDIR)\n",
            "backup:\n",
            "\tmkdir -p backup\n",
            "results:\n",
            "\tmkdir -p results\n",
            "setchmod:\n",
            "\tchmod +x *.sh\n",
            "\n",
            ".PHONY: clean\n",
            "\n",
            "clean:\n",
            "\trm -rf $(OBJS) $(EXEC) $(LIBNAMESO) $(APPNAMESO)\n"
          ]
        }
      ]
    },
    {
      "cell_type": "code",
      "source": [
        "!make"
      ],
      "metadata": {
        "colab": {
          "base_uri": "https://localhost:8080/"
        },
        "id": "VFhz62cxmXOY",
        "outputId": "cf31fa8c-dc52-4033-8970-ce39d25af5d3"
      },
      "execution_count": null,
      "outputs": [
        {
          "output_type": "stream",
          "name": "stdout",
          "text": [
            "chmod +x *.sh\n"
          ]
        }
      ]
    },
    {
      "cell_type": "code",
      "source": [
        "#checking darknet is working or not\n",
        "!./darknet"
      ],
      "metadata": {
        "colab": {
          "base_uri": "https://localhost:8080/"
        },
        "id": "9QyIO_f9mmDq",
        "outputId": "76f35d72-bbe4-424a-9a38-93d5977f9fc5"
      },
      "execution_count": null,
      "outputs": [
        {
          "output_type": "stream",
          "name": "stdout",
          "text": [
            "/bin/bash: line 1: ./darknet: Permission denied\n"
          ]
        }
      ]
    },
    {
      "cell_type": "code",
      "source": [
        "!chmod u+x darknet\n"
      ],
      "metadata": {
        "id": "EOf4xhixyU8n"
      },
      "execution_count": null,
      "outputs": []
    }
  ]
}