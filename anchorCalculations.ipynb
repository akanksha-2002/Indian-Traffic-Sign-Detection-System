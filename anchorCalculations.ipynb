{
  "nbformat": 4,
  "nbformat_minor": 0,
  "metadata": {
    "colab": {
      "provenance": [],
      "gpuType": "T4",
      "authorship_tag": "ABX9TyPlDjd20+wzcUYGMXgtB5fZ",
      "include_colab_link": true
    },
    "kernelspec": {
      "name": "python3",
      "display_name": "Python 3"
    },
    "language_info": {
      "name": "python"
    },
    "accelerator": "GPU"
  },
  "cells": [
    {
      "cell_type": "markdown",
      "metadata": {
        "id": "view-in-github",
        "colab_type": "text"
      },
      "source": [
        "<a href=\"https://colab.research.google.com/github/akanksha-2002/Indian_traffic_sign_detection_system/blob/main/anchorCalculations.ipynb\" target=\"_parent\"><img src=\"https://colab.research.google.com/assets/colab-badge.svg\" alt=\"Open In Colab\"/></a>"
      ]
    },
    {
      "cell_type": "code",
      "execution_count": null,
      "metadata": {
        "colab": {
          "base_uri": "https://localhost:8080/"
        },
        "id": "QT5WyrlOkAxj",
        "outputId": "bcbeba0f-00d7-4825-9b8f-9b80c8b1bf9f"
      },
      "outputs": [
        {
          "output_type": "stream",
          "name": "stdout",
          "text": [
            "Drive already mounted at /content/drive; to attempt to forcibly remount, call drive.mount(\"/content/drive\", force_remount=True).\n"
          ]
        }
      ],
      "source": [
        "#Connecting to Drive\n",
        "from google.colab import drive\n",
        "drive.mount('/content/drive')"
      ]
    },
    {
      "cell_type": "code",
      "source": [
        "\n",
        "#redirecting to Path\n",
        "%cd 'drive/My Drive/AI Based Driver Assistant/darknet'\n",
        "#!pwd\n",
        "#!ls"
      ],
      "metadata": {
        "colab": {
          "base_uri": "https://localhost:8080/"
        },
        "id": "Z7a4wnlMkX2c",
        "outputId": "3413dd12-2ebf-4150-d66c-c93da8f8a706"
      },
      "execution_count": null,
      "outputs": [
        {
          "output_type": "stream",
          "name": "stdout",
          "text": [
            "[Errno 2] No such file or directory: 'drive/My Drive/AI Based Driver Assistant/darknet'\n",
            "/content/drive/My Drive/AI Based Driver Assistant/darknet\n"
          ]
        }
      ]
    },
    {
      "cell_type": "code",
      "source": [
        "!ls\n"
      ],
      "metadata": {
        "id": "JQvywdfKwFmh",
        "outputId": "1da2cec9-f5c5-450d-d53b-c3e395d2ae7b",
        "colab": {
          "base_uri": "https://localhost:8080/"
        }
      },
      "execution_count": null,
      "outputs": [
        {
          "output_type": "stream",
          "name": "stdout",
          "text": [
            "3rdparty\tdarknet\t\t\tDockerfile.cpu\t       Makefile       results\n",
            "backup\t\tDarknetConfig.cmake.in\tDockerfile.gpu\t       mydata\t      scripts\n",
            "build\t\tdarknet_images.py\timage_yolov3.sh        net_cam_v3.sh  src\n",
            "build.ps1\tdarknet.py\t\timage_yolov4.sh        net_cam_v4.sh  vcpkg.json\n",
            "cfg\t\tdarknet_video.py\tinclude\t\t       obj\t      vcpkg.json.opencv23\n",
            "cmake\t\tdata\t\t\tjson_mjpeg_streams.sh  package.xml    video_yolov3.sh\n",
            "CMakeLists.txt\tdocker-compose.yml\tLICENSE\t\t       README.md      video_yolov4.sh\n"
          ]
        }
      ]
    },
    {
      "cell_type": "code",
      "source": [
        "\n",
        "#Granting executable permission\n",
        "!chmod u+x darknet"
      ],
      "metadata": {
        "id": "LvNYDPvYkgfS"
      },
      "execution_count": null,
      "outputs": []
    },
    {
      "cell_type": "code",
      "source": [
        "!cat build/darknet/mydata/Images"
      ],
      "metadata": {
        "colab": {
          "base_uri": "https://localhost:8080/"
        },
        "id": "pZ_FTiM99-Bj",
        "outputId": "7ef42cba-4b0f-4106-f847-c941d136b34b"
      },
      "execution_count": null,
      "outputs": [
        {
          "output_type": "stream",
          "name": "stdout",
          "text": [
            "cat: build/darknet/mydata/Images: No such file or directory\n"
          ]
        }
      ]
    },
    {
      "cell_type": "code",
      "source": [
        "\n",
        "!cat build/darknet/x64/data/obj.data"
      ],
      "metadata": {
        "colab": {
          "base_uri": "https://localhost:8080/"
        },
        "id": "G0BIht_8y89E",
        "outputId": "060aa62b-77e3-477b-df5d-21006b9472e0"
      },
      "execution_count": null,
      "outputs": [
        {
          "output_type": "stream",
          "name": "stdout",
          "text": [
            "cat: build/darknet/x64/data/obj.data: No such file or directory\n"
          ]
        }
      ]
    }
  ]
}